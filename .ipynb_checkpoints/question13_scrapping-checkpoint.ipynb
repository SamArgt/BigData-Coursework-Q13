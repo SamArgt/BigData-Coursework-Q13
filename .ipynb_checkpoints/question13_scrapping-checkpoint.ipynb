{
 "cells": [
  {
   "cell_type": "code",
   "execution_count": 1,
   "metadata": {},
   "outputs": [
    {
     "name": "stderr",
     "output_type": "stream",
     "text": [
      "C:\\Users\\Sam\\Anaconda3\\lib\\site-packages\\statsmodels\\tools\\_testing.py:19: FutureWarning: pandas.util.testing is deprecated. Use the functions in the public API at pandas.testing instead.\n",
      "  import pandas.util.testing as tm\n"
     ]
    }
   ],
   "source": [
    "import pandas as pd\n",
    "import numpy as np\n",
    "import requests\n",
    "import matplotlib.pyplot as plt\n",
    "import seaborn as sns\n",
    "from requests.auth import HTTPBasicAuth\n",
    "import base64\n",
    "from oauthlib.oauth2 import BackendApplicationClient\n",
    "from requests_oauthlib import OAuth2Session\n",
    "import json"
   ]
  },
  {
   "cell_type": "code",
   "execution_count": 41,
   "metadata": {},
   "outputs": [
    {
     "name": "stdout",
     "output_type": "stream",
     "text": [
      "{'access_token': 'BQC0YfLB6l44XzhYYdaaS2BBvR9GmVOKtPXSmxiIbYYWxmyt8MxwrI6X0-fzwlACft6_fpGXVzPC5K82UZw', 'token_type': 'Bearer', 'expires_in': 3600, 'scope': [''], 'expires_at': 1586275247.1434438}\n"
     ]
    }
   ],
   "source": [
    "client_id = \"9fea970e8e844ad7aa1e3a7e00a093a8\"\n",
    "client_secret = \"04f6e0df5e88404abc7b58dd90cf5b3f\"\n",
    "base_url = \"https://api.spotify.com/v1\"\n",
    "\n",
    "auth = HTTPBasicAuth(client_id, client_secret)\n",
    "client = BackendApplicationClient(client_id=client_id)\n",
    "oauth = OAuth2Session(client=client)\n",
    "token = oauth.fetch_token(token_url='https://accounts.spotify.com/api/token', auth=auth)\n",
    "print(token)\n",
    "access_token = token['access_token']"
   ]
  },
  {
   "cell_type": "code",
   "execution_count": 50,
   "metadata": {},
   "outputs": [],
   "source": [
    "def get_tracks_id_from_playlist(playlist_id, access_token):\n",
    "    compilation_url = \"https://api.spotify.com/v1/playlists/{}/tracks\".format(playlist_id)\n",
    "    headers = {\"Authorization\": \"Bearer {}\".format(access_token)}\n",
    "    tracks_id = []\n",
    "    offset = 0\n",
    "    total_tracks = 100\n",
    "    while offset < total_tracks:\n",
    "        payload = {\"offset\":str(offset)}\n",
    "        r = requests.get(compilation_url, headers=headers, params=payload)\n",
    "        if r.status_code == 200:\n",
    "            json_content = json.loads(r.content)\n",
    "            if offset == 0:\n",
    "                total_tracks = json_content['total']\n",
    "                print(\"total tracks: \", total_tracks)\n",
    "            items = json_content['items']\n",
    "            for item in items:\n",
    "                try:\n",
    "                    tracks_id.append(item[\"track\"]['id'])\n",
    "                except:\n",
    "                    continue\n",
    "            offset += 100\n",
    "        else:\n",
    "            print('Status Code: ', r.status_code)\n",
    "            pass\n",
    "    print(\"Number of tracks:\", len(np.unique(tracks_id)))\n",
    "    return np.unique(tracks_id)"
   ]
  },
  {
   "cell_type": "code",
   "execution_count": 52,
   "metadata": {},
   "outputs": [
    {
     "name": "stdout",
     "output_type": "stream",
     "text": [
      "total tracks:  446\n",
      "Number of tracks: 445\n"
     ]
    }
   ],
   "source": [
    "rock_compilation_id = \"3Ho3iO0iJykgEQNbjB2sic\"\n",
    "rock_tracks_id = get_tracks_id_from_playlist(rock_compilation_id, access_token)"
   ]
  },
  {
   "cell_type": "code",
   "execution_count": 53,
   "metadata": {},
   "outputs": [
    {
     "name": "stdout",
     "output_type": "stream",
     "text": [
      "total tracks:  390\n",
      "Number of tracks: 389\n"
     ]
    }
   ],
   "source": [
    "rap_playlist_uri = \"spotify:playlist:75KzMKJGF9xpc0AFYYYADY\"\n",
    "rap_playlist_id = \"75KzMKJGF9xpc0AFYYYADY\"\n",
    "rap_tracks_id = get_tracks_id_from_playlist(rap_playlist_id, access_token)"
   ]
  },
  {
   "cell_type": "code",
   "execution_count": 54,
   "metadata": {},
   "outputs": [
    {
     "name": "stdout",
     "output_type": "stream",
     "text": [
      "total tracks:  381\n",
      "Number of tracks: 380\n"
     ]
    }
   ],
   "source": [
    "classical_plailyst_uri = \"spotify:playlist:1c7IUA7apIvSmIWKD7VO2o\"\n",
    "classical_playlist_id = \"1c7IUA7apIvSmIWKD7VO2o\"\n",
    "classical_tracks_id = get_tracks_id_from_playlist(classical_playlist_id, access_token)"
   ]
  },
  {
   "cell_type": "code",
   "execution_count": 56,
   "metadata": {},
   "outputs": [
    {
     "name": "stdout",
     "output_type": "stream",
     "text": [
      "total tracks:  222\n",
      "Number of tracks: 222\n"
     ]
    }
   ],
   "source": [
    "jazz_playlist_uri = \"spotify:playlist:3ZZBSpcUJ4Gi2uzHjDDpC3\"\n",
    "jazz_playlist_id = \"3ZZBSpcUJ4Gi2uzHjDDpC3\"\n",
    "jazz_track_id = get_tracks_id_from_playlist(jazz_playlist_id, access_token)"
   ]
  },
  {
   "cell_type": "code",
   "execution_count": 57,
   "metadata": {},
   "outputs": [
    {
     "name": "stdout",
     "output_type": "stream",
     "text": [
      "total tracks:  232\n",
      "Number of tracks: 232\n"
     ]
    }
   ],
   "source": [
    "electro_playlist_uri = \"spotify:playlist:48M2nKfhizqGet64z5atpC\"\n",
    "electro_playlist_id = \"48M2nKfhizqGet64z5atpC\"\n",
    "electro_tracks_id = get_tracks_id_from_playlist(electro_playlist_id, access_token)"
   ]
  },
  {
   "cell_type": "code",
   "execution_count": 93,
   "metadata": {},
   "outputs": [],
   "source": [
    "def get_tracks_features(tracks_id, access_token):\n",
    "    get_track_url = \"https://api.spotify.com/v1/audio-features\"\n",
    "    headers = {\"Authorization\": \"Bearer {}\".format(access_token)}\n",
    "    N = len(tracks_id)\n",
    "    if N<=100:\n",
    "        payload = {'ids':','.join(tracks_id)}\n",
    "        r = requests.get(get_track_url, headers=headers, params=payload)\n",
    "        json_response = json.loads(r.content)\n",
    "        df = pd.DataFrame(json_response['audio_features'])\n",
    "    else:\n",
    "        df_list = []\n",
    "        N = len(tracks_id)\n",
    "        N_subs = N // 100\n",
    "        modulo = N % 100\n",
    "        sample_tracks_arr = tracks_id[:N-modulo].reshape((N_subs, 100))\n",
    "        sample_tracks_end = tracks_id[N-modulo:]\n",
    "        for i in range(N_subs):\n",
    "            sample = sample_tracks_arr[i,:]\n",
    "            payload = {'ids':','.join(sample)}\n",
    "            r = requests.get(get_track_url, headers=headers, params=payload)\n",
    "            json_response = json.loads(r.content)\n",
    "            sub_df = pd.DataFrame(json_response['audio_features'])\n",
    "            df_list.append(sub_df)  \n",
    "        payload = {'ids':','.join(sample_tracks_end)}\n",
    "        r = requests.get(get_track_url, headers=headers, params=payload)\n",
    "        json_response = json.loads(r.content)\n",
    "        sub_df = pd.DataFrame(json_response['audio_features'])\n",
    "        df_list.append(sub_df)\n",
    "        df = pd.concat(df_list, ignore_index=True)\n",
    "    return df"
   ]
  },
  {
   "cell_type": "code",
   "execution_count": 94,
   "metadata": {},
   "outputs": [
    {
     "name": "stdout",
     "output_type": "stream",
     "text": [
      "(445, 19)\n"
     ]
    }
   ],
   "source": [
    "rock_df = get_tracks_features(rock_tracks_id, access_token)\n",
    "rock_df[\"genre\"] = 'rock'\n",
    "print(rock_df.shape)"
   ]
  },
  {
   "cell_type": "code",
   "execution_count": 95,
   "metadata": {},
   "outputs": [
    {
     "name": "stdout",
     "output_type": "stream",
     "text": [
      "(389, 19)\n"
     ]
    }
   ],
   "source": [
    "rap_df = get_tracks_features(rap_tracks_id, access_token)\n",
    "rap_df[\"genre\"] = \"rap\"\n",
    "print(rap_df.shape)"
   ]
  },
  {
   "cell_type": "code",
   "execution_count": 97,
   "metadata": {},
   "outputs": [
    {
     "name": "stdout",
     "output_type": "stream",
     "text": [
      "(380, 19)\n"
     ]
    }
   ],
   "source": [
    "classical_df = get_tracks_features(classical_tracks_id, access_token)\n",
    "classical_df[\"genre\"] = \"classical\"\n",
    "print(classical_df.shape)"
   ]
  },
  {
   "cell_type": "code",
   "execution_count": 98,
   "metadata": {},
   "outputs": [
    {
     "name": "stdout",
     "output_type": "stream",
     "text": [
      "(222, 19)\n"
     ]
    }
   ],
   "source": [
    "jazz_df = get_tracks_features(jazz_track_id, access_token)\n",
    "jazz_df[\"genre\"] = \"jazz\"\n",
    "print(jazz_df.shape)"
   ]
  },
  {
   "cell_type": "code",
   "execution_count": 100,
   "metadata": {},
   "outputs": [
    {
     "name": "stdout",
     "output_type": "stream",
     "text": [
      "(232, 19)\n"
     ]
    }
   ],
   "source": [
    "electro_df = get_tracks_features(electro_tracks_id, access_token)\n",
    "electro_df[\"genre\"] = \"electro\"\n",
    "print(electro_df.shape)"
   ]
  },
  {
   "cell_type": "code",
   "execution_count": 102,
   "metadata": {},
   "outputs": [],
   "source": [
    "rock_df.to_csv(\"data_q13/rock_tracks.csv\")\n",
    "rap_df.to_csv(\"data_q13/rap_tracks.csv\")\n",
    "classical_df.to_csv(\"data_q13/classical_tracks.csv\")\n",
    "electro_df.to_csv(\"data_q13/electro_tracks.csv\")\n",
    "jazz_df.to_csv(\"data_q13/jazz_tracks.csv\")"
   ]
  },
  {
   "cell_type": "code",
   "execution_count": null,
   "metadata": {},
   "outputs": [],
   "source": []
  }
 ],
 "metadata": {
  "kernelspec": {
   "display_name": "Python 3",
   "language": "python",
   "name": "python3"
  },
  "language_info": {
   "codemirror_mode": {
    "name": "ipython",
    "version": 3
   },
   "file_extension": ".py",
   "mimetype": "text/x-python",
   "name": "python",
   "nbconvert_exporter": "python",
   "pygments_lexer": "ipython3",
   "version": "3.7.1"
  }
 },
 "nbformat": 4,
 "nbformat_minor": 4
}
